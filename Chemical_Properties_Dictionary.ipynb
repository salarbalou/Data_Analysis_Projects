{
  "nbformat": 4,
  "nbformat_minor": 0,
  "metadata": {
    "colab": {
      "name": "09-27-21-SALAR BALOU-HW2.ipynb",
      "provenance": [],
      "authorship_tag": "ABX9TyNgMja98G4CT7IuhdhCUwth",
      "include_colab_link": true
    },
    "kernelspec": {
      "name": "python3",
      "display_name": "Python 3"
    },
    "language_info": {
      "name": "python"
    }
  },
  "cells": [
    {
      "cell_type": "markdown",
      "metadata": {
        "id": "view-in-github",
        "colab_type": "text"
      },
      "source": [
        "<a href=\"https://colab.research.google.com/github/salarbalou/Data_Analysis_Projects/blob/main/Chemical_Properties_Dictionary.ipynb\" target=\"_parent\"><img src=\"https://colab.research.google.com/assets/colab-badge.svg\" alt=\"Open In Colab\"/></a>"
      ]
    },
    {
      "cell_type": "code",
      "metadata": {
        "colab": {
          "base_uri": "https://localhost:8080/"
        },
        "id": "cJZWVoR6Y9VA",
        "outputId": "f086a408-8fed-4417-d5c0-75e18cadaa93"
      },
      "source": [
        "!pip install dotmap # we need dotmap for fast navigation through the dictionary using only dots"
      ],
      "execution_count": 1,
      "outputs": [
        {
          "output_type": "stream",
          "name": "stdout",
          "text": [
            "Collecting dotmap\n",
            "  Downloading dotmap-1.3.30-py3-none-any.whl (11 kB)\n",
            "Installing collected packages: dotmap\n",
            "Successfully installed dotmap-1.3.30\n"
          ]
        }
      ]
    },
    {
      "cell_type": "code",
      "metadata": {
        "id": "LiOKKfFsWutv"
      },
      "source": [
        "import numpy as np #numpy is for calculations\n",
        "import re # regualr expressions to extract important data from text\n",
        "import requests # to request and grab the text file from the url\n",
        "from dotmap import DotMap #here we import dotmap\n",
        "import string # we need strig to assign a letter to designated value"
      ],
      "execution_count": 2,
      "outputs": []
    },
    {
      "cell_type": "code",
      "metadata": {
        "id": "ilee47iWW45m"
      },
      "source": [
        "# Write your compound here;\n",
        "compound = 'Ethanol'"
      ],
      "execution_count": 3,
      "outputs": []
    },
    {
      "cell_type": "code",
      "metadata": {
        "id": "3pg0zO0YYc_R"
      },
      "source": [
        "# this is our dictionary abbrevname definition\n",
        "extract_single_props = {'Molecular Weight' : 'Mw',\n",
        "                        'Critical Temperature' : 'Tc',\n",
        "                        'Critical Pressure' : 'Pc',\n",
        "                        'Critical Volume' : 'Vc',\n",
        "                        'Acentric factor' : 'w',\n",
        "                        'Normal boiling point' : 'Tb',\n",
        "                        'IG heat of formation' : 'HfIG',\n",
        "                        'IG Gibbs of formation' : 'GfIG',\n",
        "                        'Heat of vaporization' : 'HvapNB'}\n",
        "extract_coeff_props={'Vapor Pressure' : 'Pvap',\n",
        "                     'Ideal Gas Heat Capacity':'CpIG',\n",
        "                     'Liquid Heat Capacity' : 'CpL',\n",
        "                     'Solid Heat Capacity' : 'CpS',\n",
        "                     'Heat of Vaporization' : 'Hvap',\n",
        "                     'Liquid Density' : 'rhoL'}"
      ],
      "execution_count": 4,
      "outputs": []
    },
    {
      "cell_type": "code",
      "metadata": {
        "id": "FGz-aiBoWzpQ"
      },
      "source": [
        "# we are extracting the text from the url containing props and coeffs\n",
        "baseurl = 'https://raw.githubusercontent.com/profteachkids/chetools/main/data/'\n",
        "char = 'Props.txt'\n",
        "text = requests.get(baseurl+compound+char).text"
      ],
      "execution_count": 5,
      "outputs": []
    },
    {
      "cell_type": "code",
      "metadata": {
        "id": "GWK8lLZTXBo_"
      },
      "source": [
        "# Making the dict for single_props\n",
        "single_props_pat = re.compile(r'^ ([A-Z a-z/.()\\d]+?)\\s*:\\s*([0-9.e+-]+)\\s+([a-zA-Z0-9-/.()*]*)\\s*$', re.MULTILINE) # we are defining the path of the single properties\n",
        "single_props_dict = dict([single_props[0:2] for single_props in single_props_pat.findall(text)]) # we create a dict for the single propertis here and we remove the units\n",
        "props = {} # we define an empty dictionary so we can assign it to the any values we want\n",
        "props = DotMap(props) # props as an empty dicitionary will follow the dotmap protocol for navigation\n",
        "for k, v in extract_single_props.items(): # we are assigning the fullname and abbrevanem in our abbrevname list to the props dicitonary\n",
        "    props[v] = float(single_props_dict[k])"
      ],
      "execution_count": 6,
      "outputs": []
    },
    {
      "cell_type": "code",
      "metadata": {
        "id": "Hf4Bi9rHZVD3"
      },
      "source": [
        "# Making the dictionary for single_coeffs\n",
        "coeffs = {} # again we define an empty dictionary\n",
        "coeffs = DotMap(coeffs) # which follos dotmap for navigation through it\n",
        "single_coeffs_pat = re.compile(r'([\\w ]+)\\s[^\\n]*Equation.*?Coeffs:\\s*([-0-9. e+-]+)', re.DOTALL) # this is the path for the coeffs we are looking for\n",
        "single_coeffs_dict = dict(single_coeffs_pat.findall(text)) # we extract and make a dict out of the data of coeffs\n",
        "for fullname, abbrevname in extract_coeff_props.items(): # the abbrevaname and fullname in coeffs abbrename list must be equalized\n",
        "    abbrevname = extract_coeff_props[fullname]\n",
        "    coeffs_values = re.split(r'\\s+', single_coeffs_dict[fullname]) # we have to seperate the coeffs_values\n",
        "    for letter, values in zip(string.ascii_uppercase, coeffs_values): # we assign a letter to each value up to 7 values\n",
        "         coeffs[abbrevname+letter] = float(values) # we use the previosly described empty dict to call the coeffs.abbrevname+letter and then equilize it to the float of each value"
      ],
      "execution_count": 7,
      "outputs": []
    },
    {
      "cell_type": "code",
      "metadata": {
        "id": "UYsPriQAIxLf"
      },
      "source": [
        "def vapor_pressure(T): # we define a fucntion that returns the value of vapor_pressure or etc...\n",
        "    return np.exp(coeffs.PvapA + coeffs.PvapB/T + coeffs.PvapC*np.log(T) + coeffs.PvapD*T**coeffs.PvapE)"
      ],
      "execution_count": 8,
      "outputs": []
    },
    {
      "cell_type": "code",
      "source": [
        "coeffs.PvapA"
      ],
      "metadata": {
        "colab": {
          "base_uri": "https://localhost:8080/"
        },
        "id": "HBXe5nmt1Fnf",
        "outputId": "9e076b7b-fcbc-483a-e21b-d13fa094fdcc"
      },
      "execution_count": 10,
      "outputs": [
        {
          "output_type": "execute_result",
          "data": {
            "text/plain": [
              "74.475"
            ]
          },
          "metadata": {},
          "execution_count": 10
        }
      ]
    },
    {
      "cell_type": "code",
      "source": [
        ""
      ],
      "metadata": {
        "id": "SiDxyNHJ1I5u"
      },
      "execution_count": null,
      "outputs": []
    }
  ]
}