{
  "nbformat": 4,
  "nbformat_minor": 0,
  "metadata": {
    "colab": {
      "name": "TensorFlow.ipynb",
      "provenance": [],
      "authorship_tag": "ABX9TyPkubSzR5YlOoB2g6vKDJRg",
      "include_colab_link": true
    },
    "kernelspec": {
      "name": "python3",
      "display_name": "Python 3"
    },
    "language_info": {
      "name": "python"
    }
  },
  "cells": [
    {
      "cell_type": "markdown",
      "metadata": {
        "id": "view-in-github",
        "colab_type": "text"
      },
      "source": [
        "<a href=\"https://colab.research.google.com/github/salarbalou/Data_Analysis_Projects/blob/main/TensorFlow.ipynb\" target=\"_parent\"><img src=\"https://colab.research.google.com/assets/colab-badge.svg\" alt=\"Open In Colab\"/></a>"
      ]
    },
    {
      "cell_type": "code",
      "execution_count": 1,
      "metadata": {
        "id": "BY_n-TAWSgf2"
      },
      "outputs": [],
      "source": [
        "import tensorflow as tf\n",
        "import matplotlib\n",
        "from matplotlib import pyplot as plt\n",
        "\n",
        "matplotlib.rcParams['figure.figsize'] = [9, 6]"
      ]
    },
    {
      "cell_type": "code",
      "source": [
        "x = tf.constant([[1., 2., 3.], [3., 4., 5.]])\n",
        "x"
      ],
      "metadata": {
        "colab": {
          "base_uri": "https://localhost:8080/"
        },
        "id": "54Q6b_TWSj-0",
        "outputId": "4eb0b3c1-3833-4bef-c232-103d5a3f9fb9"
      },
      "execution_count": 2,
      "outputs": [
        {
          "output_type": "execute_result",
          "data": {
            "text/plain": [
              "<tf.Tensor: shape=(2, 3), dtype=float32, numpy=\n",
              "array([[1., 2., 3.],\n",
              "       [3., 4., 5.]], dtype=float32)>"
            ]
          },
          "metadata": {},
          "execution_count": 2
        }
      ]
    },
    {
      "cell_type": "code",
      "source": [
        "x @ tf.transpose(x)"
      ],
      "metadata": {
        "colab": {
          "base_uri": "https://localhost:8080/"
        },
        "id": "ZU9oaN_WSwIn",
        "outputId": "52faff8c-6fca-4057-b89a-0b141684093f"
      },
      "execution_count": 3,
      "outputs": [
        {
          "output_type": "execute_result",
          "data": {
            "text/plain": [
              "<tf.Tensor: shape=(2, 2), dtype=float32, numpy=\n",
              "array([[14., 26.],\n",
              "       [26., 50.]], dtype=float32)>"
            ]
          },
          "metadata": {},
          "execution_count": 3
        }
      ]
    },
    {
      "cell_type": "code",
      "source": [
        "tf.concat([x, x, x], axis = 0)"
      ],
      "metadata": {
        "colab": {
          "base_uri": "https://localhost:8080/"
        },
        "id": "sgpWyjrYS03t",
        "outputId": "10df109c-818b-4be5-b644-0c5a32794b51"
      },
      "execution_count": 4,
      "outputs": [
        {
          "output_type": "execute_result",
          "data": {
            "text/plain": [
              "<tf.Tensor: shape=(6, 3), dtype=float32, numpy=\n",
              "array([[1., 2., 3.],\n",
              "       [3., 4., 5.],\n",
              "       [1., 2., 3.],\n",
              "       [3., 4., 5.],\n",
              "       [1., 2., 3.],\n",
              "       [3., 4., 5.]], dtype=float32)>"
            ]
          },
          "metadata": {},
          "execution_count": 4
        }
      ]
    },
    {
      "cell_type": "code",
      "source": [
        "tf.nn.softmax(x, axis = -1)"
      ],
      "metadata": {
        "colab": {
          "base_uri": "https://localhost:8080/"
        },
        "id": "hD9sIHSHTcAI",
        "outputId": "5d7ce0ea-8174-44c4-86ec-e892e29622f5"
      },
      "execution_count": 5,
      "outputs": [
        {
          "output_type": "execute_result",
          "data": {
            "text/plain": [
              "<tf.Tensor: shape=(2, 3), dtype=float32, numpy=\n",
              "array([[0.09003057, 0.24472848, 0.66524094],\n",
              "       [0.09003057, 0.24472848, 0.66524094]], dtype=float32)>"
            ]
          },
          "metadata": {},
          "execution_count": 5
        }
      ]
    },
    {
      "cell_type": "code",
      "source": [
        "var = tf.Variable([0., 0., 0.])"
      ],
      "metadata": {
        "id": "cFypH5QsUGBI"
      },
      "execution_count": 6,
      "outputs": []
    },
    {
      "cell_type": "code",
      "source": [
        "var.assign([1, 2, 3])"
      ],
      "metadata": {
        "colab": {
          "base_uri": "https://localhost:8080/"
        },
        "id": "fXmqa_x1Vpko",
        "outputId": "11bf6b72-27f9-4ee1-9867-a310c8047d5c"
      },
      "execution_count": 7,
      "outputs": [
        {
          "output_type": "execute_result",
          "data": {
            "text/plain": [
              "<tf.Variable 'UnreadVariable' shape=(3,) dtype=float32, numpy=array([1., 2., 3.], dtype=float32)>"
            ]
          },
          "metadata": {},
          "execution_count": 7
        }
      ]
    },
    {
      "cell_type": "code",
      "source": [
        "var.assign_add([1, 1, 1])"
      ],
      "metadata": {
        "colab": {
          "base_uri": "https://localhost:8080/"
        },
        "id": "Z2eXOWXbVvN6",
        "outputId": "c4c9e555-d8ca-4c12-e563-0491ba511a9b"
      },
      "execution_count": 8,
      "outputs": [
        {
          "output_type": "execute_result",
          "data": {
            "text/plain": [
              "<tf.Variable 'UnreadVariable' shape=(3,) dtype=float32, numpy=array([2., 3., 4.], dtype=float32)>"
            ]
          },
          "metadata": {},
          "execution_count": 8
        }
      ]
    },
    {
      "cell_type": "code",
      "source": [
        "x = tf.Variable([1., 2., 3.])"
      ],
      "metadata": {
        "id": "B07y-3JwV2nq"
      },
      "execution_count": 9,
      "outputs": []
    },
    {
      "cell_type": "code",
      "source": [
        "x"
      ],
      "metadata": {
        "colab": {
          "base_uri": "https://localhost:8080/"
        },
        "id": "CITBeaTbV8W6",
        "outputId": "1c422d78-16ac-4a78-9cd1-e8c2d03e2b31"
      },
      "execution_count": 10,
      "outputs": [
        {
          "output_type": "execute_result",
          "data": {
            "text/plain": [
              "<tf.Variable 'Variable:0' shape=(3,) dtype=float32, numpy=array([1., 2., 3.], dtype=float32)>"
            ]
          },
          "metadata": {},
          "execution_count": 10
        }
      ]
    },
    {
      "cell_type": "code",
      "source": [
        "def f(x):\n",
        "  y = x**2+2*x-5\n",
        "  return y"
      ],
      "metadata": {
        "id": "kNVn1LhmV84L"
      },
      "execution_count": 11,
      "outputs": []
    },
    {
      "cell_type": "code",
      "source": [
        "f(var)"
      ],
      "metadata": {
        "colab": {
          "base_uri": "https://localhost:8080/"
        },
        "id": "XC2iptrHWE57",
        "outputId": "5ea60fc7-831f-4cd5-9fce-ebd0f846e6c7"
      },
      "execution_count": 12,
      "outputs": [
        {
          "output_type": "execute_result",
          "data": {
            "text/plain": [
              "<tf.Tensor: shape=(3,), dtype=float32, numpy=array([ 3., 10., 19.], dtype=float32)>"
            ]
          },
          "metadata": {},
          "execution_count": 12
        }
      ]
    },
    {
      "cell_type": "code",
      "source": [
        "with tf.GradientTape() as tape:\n",
        "  y = f(x)"
      ],
      "metadata": {
        "id": "HHWBysaDWF9i"
      },
      "execution_count": 13,
      "outputs": []
    },
    {
      "cell_type": "code",
      "source": [
        "g_x = tape.gradient(y, x)"
      ],
      "metadata": {
        "id": "LfHZmkt-Wofk"
      },
      "execution_count": 14,
      "outputs": []
    },
    {
      "cell_type": "code",
      "source": [
        "g_x"
      ],
      "metadata": {
        "colab": {
          "base_uri": "https://localhost:8080/"
        },
        "id": "eVLCbUU0Wr7D",
        "outputId": "50da428e-2205-451d-c488-4290d155f522"
      },
      "execution_count": 15,
      "outputs": [
        {
          "output_type": "execute_result",
          "data": {
            "text/plain": [
              "<tf.Tensor: shape=(3,), dtype=float32, numpy=array([4., 6., 8.], dtype=float32)>"
            ]
          },
          "metadata": {},
          "execution_count": 15
        }
      ]
    },
    {
      "cell_type": "code",
      "source": [
        "x = tf.linspace(-2, 2, 200)"
      ],
      "metadata": {
        "id": "KD6S45vZWsmb"
      },
      "execution_count": 16,
      "outputs": []
    },
    {
      "cell_type": "code",
      "source": [
        "x"
      ],
      "metadata": {
        "colab": {
          "base_uri": "https://localhost:8080/"
        },
        "id": "XQE2kTUcYMFW",
        "outputId": "38743940-f93b-4cc7-da7a-4bdbec845e51"
      },
      "execution_count": 17,
      "outputs": [
        {
          "output_type": "execute_result",
          "data": {
            "text/plain": [
              "<tf.Tensor: shape=(200,), dtype=float64, numpy=\n",
              "array([-2.        , -1.9798995 , -1.95979899, -1.93969849, -1.91959799,\n",
              "       -1.89949749, -1.87939698, -1.85929648, -1.83919598, -1.81909548,\n",
              "       -1.79899497, -1.77889447, -1.75879397, -1.73869347, -1.71859296,\n",
              "       -1.69849246, -1.67839196, -1.65829146, -1.63819095, -1.61809045,\n",
              "       -1.59798995, -1.57788945, -1.55778894, -1.53768844, -1.51758794,\n",
              "       -1.49748744, -1.47738693, -1.45728643, -1.43718593, -1.41708543,\n",
              "       -1.39698492, -1.37688442, -1.35678392, -1.33668342, -1.31658291,\n",
              "       -1.29648241, -1.27638191, -1.25628141, -1.2361809 , -1.2160804 ,\n",
              "       -1.1959799 , -1.1758794 , -1.15577889, -1.13567839, -1.11557789,\n",
              "       -1.09547739, -1.07537688, -1.05527638, -1.03517588, -1.01507538,\n",
              "       -0.99497487, -0.97487437, -0.95477387, -0.93467337, -0.91457286,\n",
              "       -0.89447236, -0.87437186, -0.85427136, -0.83417085, -0.81407035,\n",
              "       -0.79396985, -0.77386935, -0.75376884, -0.73366834, -0.71356784,\n",
              "       -0.69346734, -0.67336683, -0.65326633, -0.63316583, -0.61306533,\n",
              "       -0.59296482, -0.57286432, -0.55276382, -0.53266332, -0.51256281,\n",
              "       -0.49246231, -0.47236181, -0.45226131, -0.4321608 , -0.4120603 ,\n",
              "       -0.3919598 , -0.3718593 , -0.35175879, -0.33165829, -0.31155779,\n",
              "       -0.29145729, -0.27135678, -0.25125628, -0.23115578, -0.21105528,\n",
              "       -0.19095477, -0.17085427, -0.15075377, -0.13065327, -0.11055276,\n",
              "       -0.09045226, -0.07035176, -0.05025126, -0.03015075, -0.01005025,\n",
              "        0.01005025,  0.03015075,  0.05025126,  0.07035176,  0.09045226,\n",
              "        0.11055276,  0.13065327,  0.15075377,  0.17085427,  0.19095477,\n",
              "        0.21105528,  0.23115578,  0.25125628,  0.27135678,  0.29145729,\n",
              "        0.31155779,  0.33165829,  0.35175879,  0.3718593 ,  0.3919598 ,\n",
              "        0.4120603 ,  0.4321608 ,  0.45226131,  0.47236181,  0.49246231,\n",
              "        0.51256281,  0.53266332,  0.55276382,  0.57286432,  0.59296482,\n",
              "        0.61306533,  0.63316583,  0.65326633,  0.67336683,  0.69346734,\n",
              "        0.71356784,  0.73366834,  0.75376884,  0.77386935,  0.79396985,\n",
              "        0.81407035,  0.83417085,  0.85427136,  0.87437186,  0.89447236,\n",
              "        0.91457286,  0.93467337,  0.95477387,  0.97487437,  0.99497487,\n",
              "        1.01507538,  1.03517588,  1.05527638,  1.07537688,  1.09547739,\n",
              "        1.11557789,  1.13567839,  1.15577889,  1.1758794 ,  1.1959799 ,\n",
              "        1.2160804 ,  1.2361809 ,  1.25628141,  1.27638191,  1.29648241,\n",
              "        1.31658291,  1.33668342,  1.35678392,  1.37688442,  1.39698492,\n",
              "        1.41708543,  1.43718593,  1.45728643,  1.47738693,  1.49748744,\n",
              "        1.51758794,  1.53768844,  1.55778894,  1.57788945,  1.59798995,\n",
              "        1.61809045,  1.63819095,  1.65829146,  1.67839196,  1.69849246,\n",
              "        1.71859296,  1.73869347,  1.75879397,  1.77889447,  1.79899497,\n",
              "        1.81909548,  1.83919598,  1.85929648,  1.87939698,  1.89949749,\n",
              "        1.91959799,  1.93969849,  1.95979899,  1.9798995 ,  2.        ])>"
            ]
          },
          "metadata": {},
          "execution_count": 17
        }
      ]
    },
    {
      "cell_type": "code",
      "source": [
        "x = tf.cast(x, tf.float32)"
      ],
      "metadata": {
        "id": "dPnOgrwpYMze"
      },
      "execution_count": 18,
      "outputs": []
    },
    {
      "cell_type": "code",
      "source": [
        "x"
      ],
      "metadata": {
        "colab": {
          "base_uri": "https://localhost:8080/"
        },
        "id": "x39seEOlYUFd",
        "outputId": "7f6be906-5390-457b-bda5-673ed52e4422"
      },
      "execution_count": 19,
      "outputs": [
        {
          "output_type": "execute_result",
          "data": {
            "text/plain": [
              "<tf.Tensor: shape=(200,), dtype=float32, numpy=\n",
              "array([-2.        , -1.9798995 , -1.959799  , -1.9396985 , -1.919598  ,\n",
              "       -1.8994975 , -1.879397  , -1.8592964 , -1.839196  , -1.8190955 ,\n",
              "       -1.798995  , -1.7788944 , -1.758794  , -1.7386935 , -1.718593  ,\n",
              "       -1.6984924 , -1.6783919 , -1.6582915 , -1.638191  , -1.6180905 ,\n",
              "       -1.5979899 , -1.5778894 , -1.557789  , -1.5376885 , -1.5175879 ,\n",
              "       -1.4974874 , -1.477387  , -1.4572865 , -1.4371859 , -1.4170854 ,\n",
              "       -1.3969849 , -1.3768845 , -1.3567839 , -1.3366834 , -1.3165829 ,\n",
              "       -1.2964824 , -1.2763819 , -1.2562814 , -1.2361809 , -1.2160804 ,\n",
              "       -1.19598   , -1.1758794 , -1.1557789 , -1.1356784 , -1.1155779 ,\n",
              "       -1.0954773 , -1.0753769 , -1.0552764 , -1.0351759 , -1.0150753 ,\n",
              "       -0.99497485, -0.9748744 , -0.95477384, -0.93467337, -0.91457283,\n",
              "       -0.89447236, -0.8743719 , -0.85427135, -0.8341709 , -0.81407034,\n",
              "       -0.79396987, -0.77386934, -0.75376886, -0.7336683 , -0.71356785,\n",
              "       -0.6934673 , -0.67336684, -0.6532663 , -0.63316584, -0.6130653 ,\n",
              "       -0.5929648 , -0.5728643 , -0.5527638 , -0.53266335, -0.5125628 ,\n",
              "       -0.4924623 , -0.4723618 , -0.4522613 , -0.4321608 , -0.4120603 ,\n",
              "       -0.3919598 , -0.37185928, -0.3517588 , -0.3316583 , -0.3115578 ,\n",
              "       -0.2914573 , -0.2713568 , -0.2512563 , -0.23115578, -0.21105528,\n",
              "       -0.19095477, -0.17085427, -0.15075377, -0.13065326, -0.11055277,\n",
              "       -0.09045226, -0.07035176, -0.05025126, -0.03015075, -0.01005025,\n",
              "        0.01005025,  0.03015075,  0.05025126,  0.07035176,  0.09045226,\n",
              "        0.11055277,  0.13065326,  0.15075377,  0.17085427,  0.19095477,\n",
              "        0.21105528,  0.23115578,  0.2512563 ,  0.2713568 ,  0.2914573 ,\n",
              "        0.3115578 ,  0.3316583 ,  0.3517588 ,  0.37185928,  0.3919598 ,\n",
              "        0.4120603 ,  0.4321608 ,  0.4522613 ,  0.4723618 ,  0.4924623 ,\n",
              "        0.5125628 ,  0.53266335,  0.5527638 ,  0.5728643 ,  0.5929648 ,\n",
              "        0.6130653 ,  0.63316584,  0.6532663 ,  0.67336684,  0.6934673 ,\n",
              "        0.71356785,  0.7336683 ,  0.75376886,  0.77386934,  0.79396987,\n",
              "        0.81407034,  0.8341709 ,  0.85427135,  0.8743719 ,  0.89447236,\n",
              "        0.91457283,  0.93467337,  0.95477384,  0.9748744 ,  0.99497485,\n",
              "        1.0150753 ,  1.0351759 ,  1.0552764 ,  1.0753769 ,  1.0954773 ,\n",
              "        1.1155779 ,  1.1356784 ,  1.1557789 ,  1.1758794 ,  1.19598   ,\n",
              "        1.2160804 ,  1.2361809 ,  1.2562814 ,  1.2763819 ,  1.2964824 ,\n",
              "        1.3165829 ,  1.3366834 ,  1.3567839 ,  1.3768845 ,  1.3969849 ,\n",
              "        1.4170854 ,  1.4371859 ,  1.4572865 ,  1.477387  ,  1.4974874 ,\n",
              "        1.5175879 ,  1.5376885 ,  1.557789  ,  1.5778894 ,  1.5979899 ,\n",
              "        1.6180905 ,  1.638191  ,  1.6582915 ,  1.6783919 ,  1.6984924 ,\n",
              "        1.718593  ,  1.7386935 ,  1.758794  ,  1.7788944 ,  1.798995  ,\n",
              "        1.8190955 ,  1.839196  ,  1.8592964 ,  1.879397  ,  1.8994975 ,\n",
              "        1.919598  ,  1.9396985 ,  1.959799  ,  1.9798995 ,  2.        ],\n",
              "      dtype=float32)>"
            ]
          },
          "metadata": {},
          "execution_count": 19
        }
      ]
    },
    {
      "cell_type": "code",
      "source": [
        "def f(x):\n",
        "  y = x**2 + 2*x -5\n",
        "  return y"
      ],
      "metadata": {
        "id": "5r9z3O_gYUbW"
      },
      "execution_count": 20,
      "outputs": []
    },
    {
      "cell_type": "code",
      "source": [
        "y = f(x) + tf.random.normal(shape = [200])"
      ],
      "metadata": {
        "id": "4lySWr8NYaEm"
      },
      "execution_count": 21,
      "outputs": []
    },
    {
      "cell_type": "code",
      "source": [
        "plt.plot(x.numpy(), y.numpy(), '.', label = 'Data')\n",
        "plt.plot(x, f(x), label = 'Ground')\n",
        "plt.legend()"
      ],
      "metadata": {
        "colab": {
          "base_uri": "https://localhost:8080/",
          "height": 283
        },
        "id": "sG1pFZk4YcQi",
        "outputId": "8dc890fe-485b-489b-fd7a-88fd90611c42"
      },
      "execution_count": 22,
      "outputs": [
        {
          "output_type": "execute_result",
          "data": {
            "text/plain": [
              "<matplotlib.legend.Legend at 0x7f7189e8cf90>"
            ]
          },
          "metadata": {},
          "execution_count": 22
        },
        {
          "output_type": "display_data",
          "data": {
            "text/plain": [
              "<Figure size 432x288 with 1 Axes>"
            ],
            "image/png": "[encoded data removed]"
          },
          "metadata": {
            "needs_background": "light"
          }
        }
      ]
    },
    {
      "cell_type": "code",
      "source": [
        "class Model(tf.keras.Model):\n",
        "  def __init__(self, units):\n",
        "    super().__init__()\n",
        "    self.dense1 = tf.keras.layers.Dense(units = units,\n",
        "                                        activation = tf.nn.relu,\n",
        "                                        kernel_initializer = tf.random.normal,\n",
        "                                        bias_initializer = tf.random.normal)\n",
        "    self.dense2 = tf.keras.layers.Dense(1)\n",
        "\n",
        "  def call(self, x, training = True):\n",
        "    x = x[:, tf.newaxis]\n",
        "    x = self.dense1(x)\n",
        "    x = self.dense2(x)\n",
        "    return tf.squeeze(x, axis = 1)"
      ],
      "metadata": {
        "id": "zOZFklXgYlJb"
      },
      "execution_count": 23,
      "outputs": []
    },
    {
      "cell_type": "code",
      "source": [
        "model = Model(64)"
      ],
      "metadata": {
        "id": "ZWudJNVCZCBP"
      },
      "execution_count": 24,
      "outputs": []
    },
    {
      "cell_type": "code",
      "source": [
        "model"
      ],
      "metadata": {
        "colab": {
          "base_uri": "https://localhost:8080/"
        },
        "id": "fjPR7WudbRji",
        "outputId": "1bffa128-9d5e-4808-ef7d-824c2e1d2b6f"
      },
      "execution_count": 25,
      "outputs": [
        {
          "output_type": "execute_result",
          "data": {
            "text/plain": [
              "<__main__.Model at 0x7f718e11ff50>"
            ]
          },
          "metadata": {},
          "execution_count": 25
        }
      ]
    },
    {
      "cell_type": "code",
      "source": [
        "plt.plot(x.numpy(), y.numpy(), '.', label = 'Data')\n",
        "plt.plot(x, f(x), label = 'Ground')\n",
        "plt.plot(x, model(x), label = \"Untrained Model\")\n",
        "plt.title(\"Before training\")\n",
        "plt.legend()"
      ],
      "metadata": {
        "colab": {
          "base_uri": "https://localhost:8080/",
          "height": 299
        },
        "id": "hYVUgI_hbSA6",
        "outputId": "a714696a-331a-4631-81c0-79922df49fdc"
      },
      "execution_count": 26,
      "outputs": [
        {
          "output_type": "execute_result",
          "data": {
            "text/plain": [
              "<matplotlib.legend.Legend at 0x7f7189eaf890>"
            ]
          },
          "metadata": {},
          "execution_count": 26
        },
        {
          "output_type": "display_data",
          "data": {
            "text/plain": [
              "<Figure size 432x288 with 1 Axes>"
            ],
            "image/png": "[encoded data removed]"
          },
          "metadata": {
            "needs_background": "light"
          }
        }
      ]
    },
    {
      "cell_type": "code",
      "source": [
        "variables = model.variables\n",
        "optimizer = tf.keras.optimizers.SGD(learning_rate = 0.01)\n",
        "for step in range(1000):\n",
        "  with tf.GradientTape() as tape:\n",
        "    prediction = model(x)\n",
        "    error = (y - prediction)**2\n",
        "    mean_error = tf.reduce_mean(error)\n",
        "  gradient = tape.gradient(mean_error, variables)\n",
        "  optimizer.apply_gradients(zip(gradient, variables))\n",
        "\n",
        "  if step % 100 == 0:\n",
        "    print(f'Mean Squared Error: {mean_error.numpy():0.3f}')"
      ],
      "metadata": {
        "colab": {
          "base_uri": "https://localhost:8080/"
        },
        "id": "kSoZNw-FbbXS",
        "outputId": "d3c812cb-ca9c-4ecf-d7b1-4b9a548cbecb"
      },
      "execution_count": 27,
      "outputs": [
        {
          "output_type": "stream",
          "name": "stdout",
          "text": [
            "Mean Squared Error: 25.984\n",
            "Mean Squared Error: 0.904\n",
            "Mean Squared Error: 0.894\n",
            "Mean Squared Error: 0.887\n",
            "Mean Squared Error: 0.882\n",
            "Mean Squared Error: 0.878\n",
            "Mean Squared Error: 0.875\n",
            "Mean Squared Error: 0.872\n",
            "Mean Squared Error: 0.869\n",
            "Mean Squared Error: 0.866\n"
          ]
        }
      ]
    },
    {
      "cell_type": "code",
      "source": [
        "plt.plot(x.numpy(), y.numpy(), '.', label = 'Data')\n",
        "plt.plot(x, f(x), label = 'Ground')\n",
        "plt.plot(x, model(x), label = \"Trained Model\")\n",
        "plt.title('After Training')\n",
        "plt.legend()"
      ],
      "metadata": {
        "colab": {
          "base_uri": "https://localhost:8080/",
          "height": 299
        },
        "id": "TQc7JL6SdHGV",
        "outputId": "b92e3d93-22d9-41f5-8be9-67d1c58b7873"
      },
      "execution_count": 28,
      "outputs": [
        {
          "output_type": "execute_result",
          "data": {
            "text/plain": [
              "<matplotlib.legend.Legend at 0x7f71897c9b10>"
            ]
          },
          "metadata": {},
          "execution_count": 28
        },
        {
          "output_type": "display_data",
          "data": {
            "text/plain": [
              "<Figure size 432x288 with 1 Axes>"
            ],
            "image/png": "[encoded data removed]"
          },
          "metadata": {
            "needs_background": "light"
          }
        }
      ]
    }
  ]
}